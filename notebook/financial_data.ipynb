{
 "cells": [
  {
   "cell_type": "code",
   "execution_count": null,
   "id": "1bc487a3",
   "metadata": {},
   "outputs": [],
   "source": [
    "import feedparser \n",
    "from urllib.parse import urlparse, parse_qs, quote\n",
    "import requests\n",
    "from bs4 import BeautifulSoup"
   ]
  },
  {
   "cell_type": "code",
   "execution_count": 20,
   "id": "c5196394",
   "metadata": {},
   "outputs": [],
   "source": [
    "def fetch_article_content(url):\n",
    "    \"\"\"\n",
    "    Fetch article text from the resolved publisher URL.\n",
    "    \"\"\"\n",
    "    try:\n",
    "        response = requests.get(url, timeout=10)\n",
    "        response.raise_for_status()\n",
    "        soup = BeautifulSoup(response.text, 'html.parser')\n",
    "\n",
    "        # Grab all paragraph text\n",
    "        paragraphs = soup.find_all('p')\n",
    "        content = ' '.join([p.get_text() for p in paragraphs])\n",
    "        return content.strip() if content else \"No readable content found.\"\n",
    "    except requests.RequestException:\n",
    "        return \"Content not retrieved.\"\n"
   ]
  },
  {
   "cell_type": "code",
   "execution_count": 22,
   "id": "7974a090",
   "metadata": {},
   "outputs": [
    {
     "data": {
      "text/plain": [
       "[{'title': \"Apple's Upcoming Foldable iPhone Model Will Drive Major Upside: Analyst - Yahoo Finance\",\n",
       "  'link': 'https://news.google.com/rss/articles/CBMiiwFBVV95cUxQTDBwNWhnVjh1RjVlYlVlVmxOWG9MNDhrVkowSlUtWDZnczhTZjAxa0JEaUdxNjJ4SzZqbHB5WlZlM3N0ODFydTVNOC1BdTI4NVlVS1VkT1lpTmg2SENkN21DR0Y2eDVWWFJLY2JiR3VKYnlKYktEeGYxNm9DWm9yQ29GNzF2RlJkZnd3?oc=5',\n",
       "  'published': 'Wed, 29 Oct 2025 02:31:00 GMT',\n",
       "  'content': 'No readable content found.'},\n",
       " {'title': 'Apple supplier Skyworks Solutions held talks to acquire rival Qorvo - report (AAPL:NASDAQ) - Seeking Alpha',\n",
       "  'link': 'https://news.google.com/rss/articles/CBMisgFBVV95cUxOR3lSajBDNlQ5aENQVmhJWDB5bXJKeTNDSTdmeHVuZjRZTDVvVnlqc1R0ZFNMQ3N4RW9iRE15cnM1TElIWklKMDhQUTN0SnczY1lFblBiTnoxeENIVzIzOXZyLUlSaHdRcXAxTDNwcWc4eHJTVHl5Y08xRGZ2Q1ViN190Nl9MQ0Y2UDNUODI0RWdyNFcxZmdXNzFYZk5Ic2NqTFNHQ1JjSWJRandoOWppZ2Z3?oc=5',\n",
       "  'published': 'Tue, 28 Oct 2025 07:11:43 GMT',\n",
       "  'content': 'No readable content found.'},\n",
       " {'title': 'Apple Plans MacBook Air, iPad Air and iPad Mini With Overhauled Displays - Yahoo Finance',\n",
       "  'link': 'https://news.google.com/rss/articles/CBMif0FVX3lxTE91dmk2V3FCYjlORGEteE9ldnlPc2V2SXF0ZmpIZ0JhZGVrT1VXbkxsZTFma1p0dGNfNG4wMVFtdHNTNFhMV2QzTWMyR2R3Sm03aDVnbDNYazJtV1BCaG5sT2NrV0s5bmtkRDd0ZWNLc0c5bjR4OW1LWE42TTdrbzg?oc=5',\n",
       "  'published': 'Tue, 28 Oct 2025 20:56:27 GMT',\n",
       "  'content': 'No readable content found.'},\n",
       " {'title': 'Apple Stock Outlook: Is Wall Street Bullish or Bearish? - Yahoo Finance',\n",
       "  'link': 'https://news.google.com/rss/articles/CBMigwFBVV95cUxNazdMOXNjWlVsd292eTRvQ1d4bVdJMkpwbWYzc1pxRmVxOEZoeDFiWXF4VzY3TTN2SFVJczBFczV6X1o2Zll2d05zVkRPcURzQnlLNG4zTHlJVFZRZjlFV3plZTdwZHluc1lxZnNuYm9Ea1ZNUjI5SlFfbHJxd3RaNExSQQ?oc=5',\n",
       "  'published': 'Wed, 29 Oct 2025 14:09:19 GMT',\n",
       "  'content': 'No readable content found.'},\n",
       " {'title': 'Apple seeks to end Apple Pay trade secrets lawsuit - Yahoo Finance',\n",
       "  'link': 'https://news.google.com/rss/articles/CBMie0FVX3lxTE41UGRwLVJiRlRzd2hqMEVlZE1CSVJTdlZCbTF1aC1aaUJCelVEMWZ0Qm5ONTRHRjZBRFhHejFzb0djVlQxZTk0eTFBSUFzQTViWHV2S0RacklPcUx6NDVyZkU4eGV0VmZRT1liZDNqbzhjY0pEbzNJcXNLcw?oc=5',\n",
       "  'published': 'Tue, 28 Oct 2025 16:39:30 GMT',\n",
       "  'content': 'No readable content found.'}]"
      ]
     },
     "execution_count": 22,
     "metadata": {},
     "output_type": "execute_result"
    }
   ],
   "source": [
    "def fetch_news(query, num_articles=10):\n",
    "    rss_url = f\"https://news.google.com/rss/search?q={quote(query)}\"\n",
    "    feed = feedparser.parse(rss_url)\n",
    "    news_items = feed.entries[:num_articles]\n",
    "\n",
    "    articles = []\n",
    "    for item in news_items:\n",
    "        title = item.title\n",
    "        link = item.link\n",
    "        published = item.published\n",
    "        content = fetch_article_content(link)\n",
    "        \n",
    "        articles.append({\n",
    "            \"title\": title,\n",
    "            \"link\": link,\n",
    "            \"published\": published,\n",
    "            \"content\": content\n",
    "        })\n",
    "\n",
    "    return articles\n",
    "\n",
    "fetch_news(\"Apple Inc\", num_articles=5)"
   ]
  },
  {
   "cell_type": "code",
   "execution_count": 25,
   "id": "e701e2dc",
   "metadata": {},
   "outputs": [
    {
     "name": "stdout",
     "output_type": "stream",
     "text": [
      "False\n"
     ]
    }
   ],
   "source": [
    "import torch\n",
    "\n",
    "print(torch.cuda.is_available())  \n",
    "# True → GPU available\n",
    "# False → CPU only\n"
   ]
  },
  {
   "cell_type": "code",
   "execution_count": null,
   "id": "6b8f1691",
   "metadata": {},
   "outputs": [],
   "source": []
  }
 ],
 "metadata": {
  "kernelspec": {
   "display_name": "my-project",
   "language": "python",
   "name": "python3"
  },
  "language_info": {
   "codemirror_mode": {
    "name": "ipython",
    "version": 3
   },
   "file_extension": ".py",
   "mimetype": "text/x-python",
   "name": "python",
   "nbconvert_exporter": "python",
   "pygments_lexer": "ipython3",
   "version": "3.12.10"
  }
 },
 "nbformat": 4,
 "nbformat_minor": 5
}
