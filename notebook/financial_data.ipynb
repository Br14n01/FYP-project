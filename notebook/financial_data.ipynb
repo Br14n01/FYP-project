{
 "cells": [
  {
   "cell_type": "code",
   "execution_count": null,
   "id": "1bc487a3",
   "metadata": {},
   "outputs": [],
   "source": [
    "import feedparser \n",
    "from urllib.parse import urlparse, parse_qs, quote\n",
    "import requests\n",
    "from bs4 import BeautifulSoup\n",
    "import json"
   ]
  },
  {
   "cell_type": "code",
   "execution_count": 9,
   "id": "ea9b9cba",
   "metadata": {},
   "outputs": [],
   "source": [
    "def resolve_google_news_url(google_url):\n",
    "    resp = requests.get(google_url)\n",
    "    data = BeautifulSoup(resp.text, 'html.parser').select_one('c-wiz[data-p]').get('data-p')\n",
    "    obj = json.loads(data.replace('%.@.', '[\"garturlreq\",'))\n",
    "\n",
    "    payload = {\n",
    "        'f.req': json.dumps([[['Fbv4je', json.dumps(obj[:-6] + obj[-2:]), 'null', 'generic']]])\n",
    "    }\n",
    "\n",
    "    headers = {\n",
    "    'content-type': 'application/x-www-form-urlencoded;charset=UTF-8',\n",
    "    'user-agent': 'Mozilla/5.0 (Windows NT 10.0; Win64; x64) AppleWebKit/537.36 (KHTML, like Gecko) Chrome/132.0.0.0 Safari/537.36',\n",
    "    }\n",
    "\n",
    "    url = \"https://news.google.com/_/DotsSplashUi/data/batchexecute\"\n",
    "    response = requests.post(url, headers=headers, data=payload)\n",
    "    array_string = json.loads(response.text.replace(\")]}'\", \"\"))[0][2]\n",
    "    article_url = json.loads(array_string)[1]\n",
    "    return article_url"
   ]
  },
  {
   "cell_type": "code",
   "execution_count": null,
   "id": "c5196394",
   "metadata": {},
   "outputs": [],
   "source": [
    "def fetch_article_content(url):\n",
    "    \"\"\"\n",
    "    Fetch article text from the resolved publisher URL.\n",
    "    \"\"\"\n",
    "    try:\n",
    "        response = requests.get(url, timeout=10,\n",
    "                                headers={'User-Agent': 'Mozilla/5.0'})\n",
    "        response.raise_for_status()\n",
    "        soup = BeautifulSoup(response.text, 'html.parser')\n",
    "\n",
    "        # Grab all paragraph text\n",
    "        paragraphs = soup.find_all('p')\n",
    "        content = ' '.join([p.get_text() for p in paragraphs])\n",
    "        # Remove common boilerplate phrases\n",
    "        boilerplate_phrases = [\n",
    "            \"Oops, something went wrong\",\n",
    "            \"Something went wrong\"\n",
    "        ]\n",
    "        for phrase in boilerplate_phrases:\n",
    "            content = content.replace(phrase, \"\")\n",
    "        return content.strip() if content else \"No readable content found.\"\n",
    "    except requests.RequestException:\n",
    "        return \"Content not retrieved.\"\n"
   ]
  },
  {
   "cell_type": "code",
   "execution_count": 11,
   "id": "7974a090",
   "metadata": {},
   "outputs": [],
   "source": [
    "def fetch_news(query, num_articles=5):\n",
    "    rss_url = f\"https://news.google.com/rss/search?q={quote(query)}\"\n",
    "    feed = feedparser.parse(rss_url)\n",
    "    news_items = feed.entries[:num_articles]\n",
    "\n",
    "    articles = []\n",
    "    for item in news_items:\n",
    "        title = item.title\n",
    "        link = resolve_google_news_url(item.link)\n",
    "        published = item.published\n",
    "        content = fetch_article_content(link)\n",
    "        articles.append({\n",
    "            \"title\": title,\n",
    "            \"link\": link,\n",
    "            \"published\": published,\n",
    "            \"content\": content\n",
    "        })\n",
    "\n",
    "    return articles"
   ]
  },
  {
   "cell_type": "code",
   "execution_count": 17,
   "id": "2bbac62c",
   "metadata": {},
   "outputs": [
    {
     "data": {
      "text/plain": [
       "[{'title': \"Apple's Upcoming Foldable iPhone Model Will Drive Major Upside: Analyst - Yahoo Finance\",\n",
       "  'link': 'https://finance.yahoo.com/news/apples-upcoming-foldable-iphone-model-023110451.html',\n",
       "  'published': 'Wed, 29 Oct 2025 02:31:00 GMT',\n",
       "  'content': 'Something went wrong Benzinga and Yahoo Finance LLC may earn commission or revenue on some items through the links below. Growing enthusiasm around Apple Inc‘s (NASDAQ:AAPL) iPhone 17 demand and anticipation for next year\\'s foldable iPhone 18 has analysts optimistic about the company\\'s multi-year growth outlook. JPMorgan analyst Samik Chatterjee, for example, says the Cupertino, California-based company heads into its upcoming earnings report with its strongest investor sentiment in a year. Trending: Missed Nvidia and Tesla? RAD Intel Could Be the Next AI Powerhouse — Invest Now at Just $0.81 a Share Improved data on iPhone demand and stabilization across Apple\\'s broader business have helped rebuild investor confidence, Chatterjee says. He added: The Services segment continues to perform strongly, growing roughly 13% in the fiscal third-quarter and expected to maintain that pace into fourth-quarter—despite fears that new \"link-out\" payment options would slow growth. A recent court ruling in the Alphabet Inc (NASDAQ:GOOGL) Google–DOJ case also suggests minimal impact on Google\\'s traffic acquisition costs paid to Apple, which supports Services revenue stability. An accelerated shift in manufacturing outside China—particularly to India and Vietnam—and its increased U.S. investments have reduced the company\\'s exposure to tariffs and supply chain risks. The analyst noted that optimism surrounding Apple\\'s stock now centers on the iPhone 17\\'s sales trajectory and expectations for the iPhone 18 series, which will likely include the company\\'s first foldable model. “In the midst of a positive product cycle with iPhone 17 series and with expectations for another robust productcycle with the launch of the foldable iPhone as part of the iPhone 18 series, we expect the valuation multiple attributed to the shares could present higher-than-anticipated upsides beyond the earnings revisions,” Chatterjee added. See Also: Accredited Investors Can Now Tap Into the $36 Trillion Home Equity Market — Without Buying a Single Property Looking ahead, Chatterjee expects Apple to post high single-digit revenue growth in both fiscal fourth-quarter 2025 and fiscal first-quarter 2026. The analyst forecasts fourth-quarter revenue of $103 billion and earnings per share (EPS) of $1.81, above the $102 billion and $1.77 consensus. Apple\\'s subsequent product cycles—the current iPhone 17 lineup and the upcoming iPhone 18—will accelerate revenue growth through fiscal 2026 and 2027, Chatterjee says. These factors, combined with easing tariff pressures and operational efficiencies, should drive margin expansion and earnings upgrades. Chatterjee argued that Apple\\'s clear visibility into a multi-year product cycle, coupled with strong execution in both Hardware and Services, supports further upside in the stock. Image: Shutterstock Trending Now: GM-Backed EnergyX Is Solving the Lithium Supply Crisis — Invest Before They Scale Global Production Wall Street Has Algorithms — Now Retail Traders Do Too. Invest in Option Circle Before Nov. 13 Building a resilient portfolio means thinking beyond a single asset or market trend. Economic cycles shift, sectors rise and fall, and no one investment performs well in every environment. That\\'s why many investors look to diversify with platforms that provide access to real estate, fixed-income opportunities, professional financial guidance, precious metals, and even self-directed retirement accounts. By spreading exposure across multiple asset classes, it becomes easier to manage risk, capture steady returns, and create long-term wealth that isn\\'t tied to the fortunes of just one company or industry. Backed by Jeff Bezos, Arrived Homes makes real estate investing accessible with a low barrier to entry. Investors can buy fractional shares of single-family rentals and vacation homes starting with as little as $100. This allows everyday investors to diversify into real estate, collect rental income, and build long-term wealth without needing to manage properties directly. Vinovest lets investors diversify into fine wine — a historically stable, low-volatility asset class that has outperformed the S&P 500 over multiple decades. With professionally managed portfolios, secure storage, and insurance included, users can invest in wine without needing to be experts themselves. Minimums start at $1,000, and investors retain full ownership of their wine, which has the potential to appreciate in value as global demand grows. For those seeking fixed-income style returns without Wall Street complexity, Worthy Property Bonds offers SEC-qualified, interest-bearing bonds starting at just $10. Investors earn a fixed 7% annual return, with funds deployed to small U.S. businesses. The bonds are fully liquid, meaning you can cash out anytime, making them attractive for conservative investors looking for steady, passive income. Self-directed investors looking to take greater control of their retirement savings may consider IRA Financial. The platform enables you to use a self-directed IRA or Solo 401(k) to invest in alternative assets such as real estate, private equity, or even crypto. This flexibility empowers retirement savers to go beyond traditional stocks and bonds, building diversified portfolios that align with their long-term wealth strategies. Moomoo isn\\'t just for trading — it\\'s also one of the most attractive places to park cash. New users can earn a promotional 8.1% APY on uninvested cash, combining a 3.85% base rate with a 4.25% booster once activated. On top of that, eligible new users can also score up to $1,000 in free Nvidia stock—but the real draw here is the ability to earn bank-beating interest rates without having to move into riskier assets. SoFi gives members access to a wide range of professionally managed alternative funds, covering everything from commodities and private credit to venture capital, hedge funds, and real estate. These funds can provide broader diversification, help smooth out portfolio volatility, and potentially boost total returns over time. Many of the funds have relatively low minimums, making alternative investing accessible. Range Wealth Management takes a modern, subscription-based approach to financial planning. Instead of charging asset-based fees, the platform offers flat-fee tiers that provide unlimited access to fiduciary advisors along with AI-powered planning tools. Investors can link their accounts without moving assets, while higher-level plans unlock advanced support for taxes, real estate, and multi-generational wealth strategies. This model makes Range especially appealing to high-earning professionals who want holistic advice and predictable pricing. For investors concerned about inflation or seeking portfolio protection, American Hartford Gold provides a simple way to buy and hold physical gold and silver within an IRA or direct delivery. With a minimum investment of $10,000, the platform caters to those looking to preserve wealth through precious metals while maintaining the option to diversify retirement accounts. It\\'s a favored choice for conservative investors who want tangible assets that historically hold value during uncertain markets. This article Apple\\'s Upcoming Foldable iPhone Model Will Drive Major Upside: Analyst originally appeared on Benzinga.com Sign in to access your portfolio'}]"
      ]
     },
     "execution_count": 17,
     "metadata": {},
     "output_type": "execute_result"
    }
   ],
   "source": [
    "fetch_news(\"Apple Inc\", 1)"
   ]
  },
  {
   "cell_type": "code",
   "execution_count": null,
   "id": "9498b6c1",
   "metadata": {},
   "outputs": [],
   "source": []
  }
 ],
 "metadata": {
  "kernelspec": {
   "display_name": ".venv",
   "language": "python",
   "name": "python3"
  },
  "language_info": {
   "codemirror_mode": {
    "name": "ipython",
    "version": 3
   },
   "file_extension": ".py",
   "mimetype": "text/x-python",
   "name": "python",
   "nbconvert_exporter": "python",
   "pygments_lexer": "ipython3",
   "version": "3.12.10"
  }
 },
 "nbformat": 4,
 "nbformat_minor": 5
}
