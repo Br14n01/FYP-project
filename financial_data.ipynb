{
 "cells": [
  {
   "cell_type": "code",
   "execution_count": null,
   "id": "1bc487a3",
   "metadata": {},
   "outputs": [],
   "source": [
    "import yfinance as yf"
   ]
  },
  {
   "cell_type": "code",
   "execution_count": 11,
   "id": "2cb48808",
   "metadata": {},
   "outputs": [
    {
     "data": {
      "text/plain": [
       "{'uuid': '434966e8-ee51-3f09-a93a-3c84a29e1f1b',\n",
       " 'title': 'Google has killed Privacy Sandbox',\n",
       " 'publisher': 'Engadget',\n",
       " 'link': 'https://finance.yahoo.com/m/434966e8-ee51-3f09-a93a-3c84a29e1f1b/google-has-killed-privacy.html',\n",
       " 'providerPublishTime': 1760792429,\n",
       " 'type': 'STORY',\n",
       " 'thumbnail': {'resolutions': [{'url': 'https://s.yimg.com/uu/api/res/1.2/9BslzBV0BTjAZ4AsjQGE3w--~B/aD0zNjY3O3c9NTUwMDthcHBpZD15dGFjaHlvbg--/https://media.zenfs.com/en/engadget_703/a237fadddc6cce78e839a96fef2ce66e',\n",
       "    'width': 5500,\n",
       "    'height': 3667,\n",
       "    'tag': 'original'},\n",
       "   {'url': 'https://s.yimg.com/uu/api/res/1.2/jfYsxr7tJkU4lpSvh87ipA--~B/Zmk9ZmlsbDtoPTE0MDtweW9mZj0wO3c9MTQwO2FwcGlkPXl0YWNoeW9u/https://media.zenfs.com/en/engadget_703/a237fadddc6cce78e839a96fef2ce66e',\n",
       "    'width': 140,\n",
       "    'height': 140,\n",
       "    'tag': '140x140'}]}}"
      ]
     },
     "execution_count": 11,
     "metadata": {},
     "output_type": "execute_result"
    }
   ],
   "source": [
    "news = yf.Search(\"Google\", news_count=10).news\n",
    "news[0]"
   ]
  },
  {
   "cell_type": "code",
   "execution_count": 13,
   "id": "279cceff",
   "metadata": {},
   "outputs": [
    {
     "data": {
      "text/plain": [
       "{'id': '553bc4bb-5e65-33cb-901b-16e8e11a2bfc',\n",
       " 'content': {'id': '553bc4bb-5e65-33cb-901b-16e8e11a2bfc',\n",
       "  'contentType': 'STORY',\n",
       "  'title': \"This Fitness Tech Stock Has Crushed Apple's 2025 Gains -- 1 Reason Why\",\n",
       "  'description': '',\n",
       "  'summary': 'The Amazfit brand has helped Zepp Health bounce back in a big way after years of negative returns.',\n",
       "  'pubDate': '2025-10-19T16:15:00Z',\n",
       "  'displayTime': '2025-10-19T16:15:00Z',\n",
       "  'isHosted': True,\n",
       "  'bypassModal': False,\n",
       "  'previewUrl': None,\n",
       "  'thumbnail': {'originalUrl': 'https://media.zenfs.com/en/motleyfool.com/2da76e2d12571b1c8f37c78f139e5691',\n",
       "   'originalWidth': 1200,\n",
       "   'originalHeight': 800,\n",
       "   'caption': 'A person outside looking at their smartwatch.',\n",
       "   'resolutions': [{'url': 'https://s.yimg.com/uu/api/res/1.2/XK4RAvXn3o1XHC9t.xPIAw--~B/aD04MDA7dz0xMjAwO2FwcGlkPXl0YWNoeW9u/https://media.zenfs.com/en/motleyfool.com/2da76e2d12571b1c8f37c78f139e5691',\n",
       "     'width': 1200,\n",
       "     'height': 800,\n",
       "     'tag': 'original'},\n",
       "    {'url': 'https://s.yimg.com/uu/api/res/1.2/BBzWCAndbtnLNxnEVQaxXg--~B/Zmk9c3RyaW07aD0xMjg7dz0xNzA7YXBwaWQ9eXRhY2h5b24-/https://media.zenfs.com/en/motleyfool.com/2da76e2d12571b1c8f37c78f139e5691',\n",
       "     'width': 170,\n",
       "     'height': 128,\n",
       "     'tag': '170x128'}]},\n",
       "  'provider': {'displayName': 'Motley Fool', 'url': 'http://www.fool.com/'},\n",
       "  'canonicalUrl': {'url': 'https://www.fool.com/investing/2025/10/19/this-fitness-tech-stock-has-crushed-apples-2025-ga/',\n",
       "   'site': 'finance',\n",
       "   'region': 'US',\n",
       "   'lang': 'en-US'},\n",
       "  'clickThroughUrl': {'url': 'https://finance.yahoo.com/news/fitness-tech-stock-crushed-apples-161500615.html',\n",
       "   'site': 'finance',\n",
       "   'region': 'US',\n",
       "   'lang': 'en-US'},\n",
       "  'metadata': {'editorsPick': False},\n",
       "  'finance': {'premiumFinance': {'isPremiumNews': False,\n",
       "    'isPremiumFreeNews': False}},\n",
       "  'storyline': None}}"
      ]
     },
     "execution_count": 13,
     "metadata": {},
     "output_type": "execute_result"
    }
   ],
   "source": [
    "aapl = yf.Ticker(\"AAPL\")\n",
    "aapl.get_news()[0]"
   ]
  },
  {
   "cell_type": "code",
   "execution_count": null,
   "id": "567fb50e",
   "metadata": {},
   "outputs": [],
   "source": []
  }
 ],
 "metadata": {
  "kernelspec": {
   "display_name": "venv",
   "language": "python",
   "name": "python3"
  },
  "language_info": {
   "codemirror_mode": {
    "name": "ipython",
    "version": 3
   },
   "file_extension": ".py",
   "mimetype": "text/x-python",
   "name": "python",
   "nbconvert_exporter": "python",
   "pygments_lexer": "ipython3",
   "version": "3.12.10"
  }
 },
 "nbformat": 4,
 "nbformat_minor": 5
}
