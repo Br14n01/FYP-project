{
 "cells": [
  {
   "cell_type": "code",
   "execution_count": 13,
   "id": "1bc487a3",
   "metadata": {},
   "outputs": [
    {
     "name": "stderr",
     "output_type": "stream",
     "text": [
      "/Users/brianlee/Documents/FYP-project/.venv/lib/python3.12/site-packages/tqdm/auto.py:21: TqdmWarning: IProgress not found. Please update jupyter and ipywidgets. See https://ipywidgets.readthedocs.io/en/stable/user_install.html\n",
      "  from .autonotebook import tqdm as notebook_tqdm\n"
     ]
    }
   ],
   "source": [
    "import yfinance as yf\n",
    "import finnhub\n",
    "from dotenv import load_dotenv\n",
    "import os\n",
    "from transformers import AutoTokenizer, AutoModelForSequenceClassification\n",
    "from transformers import pipeline"
   ]
  },
  {
   "cell_type": "code",
   "execution_count": 6,
   "id": "ac20567b",
   "metadata": {},
   "outputs": [],
   "source": [
    "load_dotenv()\n",
    "api_key = os.getenv(\"FINNHUB_API_KEY\")"
   ]
  },
  {
   "cell_type": "code",
   "execution_count": 10,
   "id": "880f89ca",
   "metadata": {},
   "outputs": [
    {
     "data": {
      "text/plain": [
       "{'category': 'company',\n",
       " 'datetime': 1760826331,\n",
       " 'headline': 'Analyst Sees Apple as ‘Eventual Winner on AI at the Edge,’ Keeps $270 Target',\n",
       " 'id': 137163994,\n",
       " 'image': 'https://s.yimg.com/rz/stage/p/yahoo_finance_en-US_h_p_finance_2.png',\n",
       " 'related': 'AAPL',\n",
       " 'source': 'Yahoo',\n",
       " 'summary': 'Apple Inc. (NASDAQ:AAPL) is one of the AI Stocks Analysts Are Watching Closely. On October 15, BofA Securities maintained its Buy rating and $270.00 price target on the stock. The firm noted that iPhone shipping dates across Apple’s website and various carrier platforms over the past two weeks demonstrate stable delivery timeframes for iPhone 17 Pro […]',\n",
       " 'url': 'https://finnhub.io/api/news?id=2f4c369af123e0b449581239b2cf87ba58eaeb0fd267d027d7fa59ea8e8a7ca4'}"
      ]
     },
     "execution_count": 10,
     "metadata": {},
     "output_type": "execute_result"
    }
   ],
   "source": [
    "finnhub_client = finnhub.Client(api_key=api_key)\n",
    "\n",
    "company_news = finnhub_client.company_news('AAPL', \n",
    "                                            _from=\"2025-10-15\"\n",
    "                                            ,to=\"2025-10-18\"\n",
    "                                            )\n",
    "company_news[0]"
   ]
  },
  {
   "cell_type": "code",
   "execution_count": 12,
   "id": "2cb48808",
   "metadata": {},
   "outputs": [
    {
     "data": {
      "text/plain": [
       "[{'uuid': 'e8cbae7b-a466-37f9-bf65-7a04fcd86e06',\n",
       "  'title': 'Analyst Report: Alphabet Inc',\n",
       "  'publisher': 'Argus Research',\n",
       "  'link': 'https://finance.yahoo.com/m/e8cbae7b-a466-37f9-bf65-7a04fcd86e06/analyst-report%3A-alphabet-inc.html',\n",
       "  'providerPublishTime': 1760958070,\n",
       "  'type': 'STORY',\n",
       "  'thumbnail': {'resolutions': [{'url': 'https://s.yimg.com/uu/api/res/1.2/SVKRhvYIgdoUv2HlogaP.A--~B/aD0wO3c9MDthcHBpZD15dGFjaHlvbg--/https://s.yimg.com/uc/fin/img/non-sub-report-thumb.png',\n",
       "     'width': 0,\n",
       "     'height': 0,\n",
       "     'tag': 'original'}]},\n",
       "  'relatedTickers': ['GOOG', 'GOOGL']},\n",
       " {'uuid': 'b3314707-c4ed-48eb-bd5b-e4d4695f858a',\n",
       "  'title': 'Apple stock hits all-time high as iPhone 17 sales outpace iPhone 16 in US and China',\n",
       "  'publisher': 'Yahoo Finance',\n",
       "  'link': 'https://finance.yahoo.com/news/apple-stock-hits-all-time-high-as-iphone-17-sales-outpace-iphone-16-in-us-and-china-153140378.html',\n",
       "  'providerPublishTime': 1760974300,\n",
       "  'type': 'STORY',\n",
       "  'thumbnail': {'resolutions': [{'url': 'https://s.yimg.com/uu/api/res/1.2/veO31OGAyjCfNzsRnY4R_g--~B/aD0yNzE3O3c9NDA3NTthcHBpZD15dGFjaHlvbg--/https://s.yimg.com/os/creatr-uploaded-images/2025-10/ea0b7810-adc8-11f0-b6ef-7544319ad3bc',\n",
       "     'width': 4075,\n",
       "     'height': 2717,\n",
       "     'tag': 'original'},\n",
       "    {'url': 'https://s.yimg.com/uu/api/res/1.2/_n7bEzCOPFaHyHHHO0nAWQ--~B/Zmk9ZmlsbDtoPTE0MDtweW9mZj0wO3c9MTQwO2FwcGlkPXl0YWNoeW9u/https://s.yimg.com/os/creatr-uploaded-images/2025-10/ea0b7810-adc8-11f0-b6ef-7544319ad3bc',\n",
       "     'width': 140,\n",
       "     'height': 140,\n",
       "     'tag': '140x140'}]},\n",
       "  'relatedTickers': ['AAPL']},\n",
       " {'uuid': 'd7fec4d4-8d8d-3f0f-8128-620bd474088c',\n",
       "  'title': 'Federal Science Under Strain as Report Flags Risks Ahead of Proposed Cuts',\n",
       "  'publisher': 'CNW Group',\n",
       "  'link': 'https://finance.yahoo.com/news/federal-science-under-strain-report-124200041.html',\n",
       "  'providerPublishTime': 1760964120,\n",
       "  'type': 'STORY',\n",
       "  'thumbnail': {'resolutions': [{'url': 'https://s.yimg.com/uu/api/res/1.2/j4T2AKRjLY7bT_tSy9HcyA--~B/aD0xMjU7dz00MDA7YXBwaWQ9eXRhY2h5b24-/https://media.zenfs.com/en/cnwgroup.com/633cedc293b95328912b2929ed35c3b4',\n",
       "     'width': 400,\n",
       "     'height': 125,\n",
       "     'tag': 'original'},\n",
       "    {'url': 'https://s.yimg.com/uu/api/res/1.2/PRZWTvDTGgP1NuMbWMIlGQ--~B/Zmk9ZmlsbDtoPTE0MDtweW9mZj0wO3c9MTQwO2FwcGlkPXl0YWNoeW9u/https://media.zenfs.com/en/cnwgroup.com/633cedc293b95328912b2929ed35c3b4',\n",
       "     'width': 140,\n",
       "     'height': 140,\n",
       "     'tag': '140x140'}]}}]"
      ]
     },
     "execution_count": 12,
     "metadata": {},
     "output_type": "execute_result"
    }
   ],
   "source": [
    "news = yf.Search(\"Google\", news_count=10).news\n",
    "news[:3]"
   ]
  },
  {
   "cell_type": "code",
   "execution_count": 13,
   "id": "279cceff",
   "metadata": {},
   "outputs": [
    {
     "data": {
      "text/plain": [
       "{'id': '553bc4bb-5e65-33cb-901b-16e8e11a2bfc',\n",
       " 'content': {'id': '553bc4bb-5e65-33cb-901b-16e8e11a2bfc',\n",
       "  'contentType': 'STORY',\n",
       "  'title': \"This Fitness Tech Stock Has Crushed Apple's 2025 Gains -- 1 Reason Why\",\n",
       "  'description': '',\n",
       "  'summary': 'The Amazfit brand has helped Zepp Health bounce back in a big way after years of negative returns.',\n",
       "  'pubDate': '2025-10-19T16:15:00Z',\n",
       "  'displayTime': '2025-10-19T16:15:00Z',\n",
       "  'isHosted': True,\n",
       "  'bypassModal': False,\n",
       "  'previewUrl': None,\n",
       "  'thumbnail': {'originalUrl': 'https://media.zenfs.com/en/motleyfool.com/2da76e2d12571b1c8f37c78f139e5691',\n",
       "   'originalWidth': 1200,\n",
       "   'originalHeight': 800,\n",
       "   'caption': 'A person outside looking at their smartwatch.',\n",
       "   'resolutions': [{'url': 'https://s.yimg.com/uu/api/res/1.2/XK4RAvXn3o1XHC9t.xPIAw--~B/aD04MDA7dz0xMjAwO2FwcGlkPXl0YWNoeW9u/https://media.zenfs.com/en/motleyfool.com/2da76e2d12571b1c8f37c78f139e5691',\n",
       "     'width': 1200,\n",
       "     'height': 800,\n",
       "     'tag': 'original'},\n",
       "    {'url': 'https://s.yimg.com/uu/api/res/1.2/BBzWCAndbtnLNxnEVQaxXg--~B/Zmk9c3RyaW07aD0xMjg7dz0xNzA7YXBwaWQ9eXRhY2h5b24-/https://media.zenfs.com/en/motleyfool.com/2da76e2d12571b1c8f37c78f139e5691',\n",
       "     'width': 170,\n",
       "     'height': 128,\n",
       "     'tag': '170x128'}]},\n",
       "  'provider': {'displayName': 'Motley Fool', 'url': 'http://www.fool.com/'},\n",
       "  'canonicalUrl': {'url': 'https://www.fool.com/investing/2025/10/19/this-fitness-tech-stock-has-crushed-apples-2025-ga/',\n",
       "   'site': 'finance',\n",
       "   'region': 'US',\n",
       "   'lang': 'en-US'},\n",
       "  'clickThroughUrl': {'url': 'https://finance.yahoo.com/news/fitness-tech-stock-crushed-apples-161500615.html',\n",
       "   'site': 'finance',\n",
       "   'region': 'US',\n",
       "   'lang': 'en-US'},\n",
       "  'metadata': {'editorsPick': False},\n",
       "  'finance': {'premiumFinance': {'isPremiumNews': False,\n",
       "    'isPremiumFreeNews': False}},\n",
       "  'storyline': None}}"
      ]
     },
     "execution_count": 13,
     "metadata": {},
     "output_type": "execute_result"
    }
   ],
   "source": [
    "aapl = yf.Ticker(\"AAPL\")\n",
    "aapl.get_news()[0]"
   ]
  },
  {
   "cell_type": "code",
   "execution_count": null,
   "id": "567fb50e",
   "metadata": {},
   "outputs": [
    {
     "name": "stderr",
     "output_type": "stream",
     "text": [
      "Device set to use mps:0\n"
     ]
    },
    {
     "data": {
      "text/plain": [
       "[{'label': 'neutral', 'score': 0.9298810958862305}]"
      ]
     },
     "execution_count": 16,
     "metadata": {},
     "output_type": "execute_result"
    },
    {
     "name": "stderr",
     "output_type": "stream",
     "text": [
      "'(ReadTimeoutError(\"HTTPSConnectionPool(host='huggingface.co', port=443): Read timed out. (read timeout=10)\"), '(Request ID: 1d84468b-5980-492d-b1e7-4aee7a995c41)')' thrown while requesting HEAD https://huggingface.co/ProsusAI/finbert/resolve/refs%2Fpr%2F29/model.safetensors\n",
      "Retrying in 1s [Retry 1/5].\n"
     ]
    }
   ],
   "source": [
    "tokenizer = AutoTokenizer.from_pretrained('ProsusAI/finbert')\n",
    "finbert = AutoModelForSequenceClassification.from_pretrained('ProsusAI/finbert')\n",
    "\n",
    "nlp = pipeline(\"sentiment-analysis\", \n",
    "            model=finbert, \n",
    "            tokenizer=tokenizer\n",
    "            )\n",
    "result = nlp(\"The Stock price is $250 now and BofA Securities maintained its Buy rating and $270.00 price target on the stock\")\n",
    "result"
   ]
  },
  {
   "cell_type": "code",
   "execution_count": null,
   "id": "1c1a27e7",
   "metadata": {},
   "outputs": [],
   "source": []
  }
 ],
 "metadata": {
  "kernelspec": {
   "display_name": "venv",
   "language": "python",
   "name": "python3"
  },
  "language_info": {
   "codemirror_mode": {
    "name": "ipython",
    "version": 3
   },
   "file_extension": ".py",
   "mimetype": "text/x-python",
   "name": "python",
   "nbconvert_exporter": "python",
   "pygments_lexer": "ipython3",
   "version": "3.12.10"
  }
 },
 "nbformat": 4,
 "nbformat_minor": 5
}
